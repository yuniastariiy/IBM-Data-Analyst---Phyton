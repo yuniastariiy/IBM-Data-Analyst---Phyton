{
  "nbformat": 4,
  "nbformat_minor": 0,
  "metadata": {
    "colab": {
      "provenance": [],
      "authorship_tag": "ABX9TyPjdTsDnrmSmiBas8VIktR7",
      "include_colab_link": true
    },
    "kernelspec": {
      "name": "python3",
      "display_name": "Python 3"
    },
    "language_info": {
      "name": "python"
    }
  },
  "cells": [
    {
      "cell_type": "markdown",
      "metadata": {
        "id": "view-in-github",
        "colab_type": "text"
      },
      "source": [
        "<a href=\"https://colab.research.google.com/github/yuniastariiy/IBM-Data-Analyst---Phyton/blob/main/Practice_Project_DA_with_Phyton.ipynb\" target=\"_parent\"><img src=\"https://colab.research.google.com/assets/colab-badge.svg\" alt=\"Open In Colab\"/></a>"
      ]
    },
    {
      "cell_type": "markdown",
      "source": [
        "# **Practice Project: Insurance Cost Analysis**\n",
        "\n",
        "This report presents a comprehensive analysis of an insurance cost dataset consisting of several demographic and lifestyle variables. The goal is to develop predictive models for annual insurance charges using various regression techniques and to identify the factors that significantly influence these charges.\n",
        "\n",
        "## 📄 Dataset Parameters\n",
        "\n",
        "| Parameter |Description| Content type |\n",
        "|---|----|---|\n",
        "|age| Age in years| integer |\n",
        "|gender| Male or Female|integer (1 or 2)|\n",
        "| bmi | Body mass index | float |\n",
        "|no_of_children| Number of children | integer|\n",
        "|smoker| Whether smoker or not | integer (0 or 1)|\n",
        "|region| Which US region - NW, NE, SW, SE | integer (1,2,3 or 4 respectively)|\n",
        "|charges| Annual Insurance charges in USD | float|"
      ],
      "metadata": {
        "id": "68X-VJrFtWME"
      }
    },
    {
      "cell_type": "markdown",
      "source": [
        "### Importing Required Libraries"
      ],
      "metadata": {
        "id": "VdWx17C9u41A"
      }
    },
    {
      "cell_type": "code",
      "source": [
        "import pandas as pd\n",
        "import matplotlib.pyplot as plt\n",
        "import numpy as np\n",
        "import seaborn as sns\n",
        "\n",
        "from sklearn.pipeline import Pipeline\n",
        "from sklearn.preprocessing import StandardScaler, PolynomialFeatures\n",
        "from sklearn.linear_model import LinearRegression, Ridge\n",
        "from sklearn.metrics import mean_squared_error, r2_score\n",
        "from sklearn.model_selection import cross_val_score, train_test_split"
      ],
      "metadata": {
        "id": "uv9mdHwdvCfe"
      },
      "execution_count": 36,
      "outputs": []
    },
    {
      "cell_type": "markdown",
      "source": [
        "### Download the dataset"
      ],
      "metadata": {
        "id": "3J4H2s9rvHcK"
      }
    },
    {
      "cell_type": "code",
      "source": [
        "!wget https://cf-courses-data.s3.us.cloud-object-storage.appdomain.cloud/IBMDeveloperSkillsNetwork-DA0101EN-Coursera/medical_insurance_dataset.csv -O insurance.csv\n",
        "\n",
        "\n",
        "df = pd.read_csv(\"insurance.csv\")\n",
        "df.head()"
      ],
      "metadata": {
        "colab": {
          "base_uri": "https://localhost:8080/",
          "height": 406
        },
        "id": "j0nt247_vPv5",
        "outputId": "b69ae38d-93fc-4e74-8fd6-a79f01af654d"
      },
      "execution_count": 37,
      "outputs": [
        {
          "output_type": "stream",
          "name": "stdout",
          "text": [
            "--2025-06-08 09:41:14--  https://cf-courses-data.s3.us.cloud-object-storage.appdomain.cloud/IBMDeveloperSkillsNetwork-DA0101EN-Coursera/medical_insurance_dataset.csv\n",
            "Resolving cf-courses-data.s3.us.cloud-object-storage.appdomain.cloud (cf-courses-data.s3.us.cloud-object-storage.appdomain.cloud)... 169.63.118.104\n",
            "Connecting to cf-courses-data.s3.us.cloud-object-storage.appdomain.cloud (cf-courses-data.s3.us.cloud-object-storage.appdomain.cloud)|169.63.118.104|:443... connected.\n",
            "HTTP request sent, awaiting response... 200 OK\n",
            "Length: 78536 (77K) [text/csv]\n",
            "Saving to: ‘insurance.csv’\n",
            "\n",
            "insurance.csv       100%[===================>]  76.70K  --.-KB/s    in 0.02s   \n",
            "\n",
            "2025-06-08 09:41:14 (3.49 MB/s) - ‘insurance.csv’ saved [78536/78536]\n",
            "\n"
          ]
        },
        {
          "output_type": "execute_result",
          "data": {
            "text/plain": [
              "   19  1    27.9  0 1.1  3    16884.924\n",
              "0  18  2  33.770  1   0  4   1725.55230\n",
              "1  28  2  33.000  3   0  4   4449.46200\n",
              "2  33  2  22.705  0   0  1  21984.47061\n",
              "3  32  2  28.880  0   0  1   3866.85520\n",
              "4  31  1  25.740  0   ?  4   3756.62160"
            ],
            "text/html": [
              "\n",
              "  <div id=\"df-8c22a03e-162f-4734-8a6f-dc5cf3870251\" class=\"colab-df-container\">\n",
              "    <div>\n",
              "<style scoped>\n",
              "    .dataframe tbody tr th:only-of-type {\n",
              "        vertical-align: middle;\n",
              "    }\n",
              "\n",
              "    .dataframe tbody tr th {\n",
              "        vertical-align: top;\n",
              "    }\n",
              "\n",
              "    .dataframe thead th {\n",
              "        text-align: right;\n",
              "    }\n",
              "</style>\n",
              "<table border=\"1\" class=\"dataframe\">\n",
              "  <thead>\n",
              "    <tr style=\"text-align: right;\">\n",
              "      <th></th>\n",
              "      <th>19</th>\n",
              "      <th>1</th>\n",
              "      <th>27.9</th>\n",
              "      <th>0</th>\n",
              "      <th>1.1</th>\n",
              "      <th>3</th>\n",
              "      <th>16884.924</th>\n",
              "    </tr>\n",
              "  </thead>\n",
              "  <tbody>\n",
              "    <tr>\n",
              "      <th>0</th>\n",
              "      <td>18</td>\n",
              "      <td>2</td>\n",
              "      <td>33.770</td>\n",
              "      <td>1</td>\n",
              "      <td>0</td>\n",
              "      <td>4</td>\n",
              "      <td>1725.55230</td>\n",
              "    </tr>\n",
              "    <tr>\n",
              "      <th>1</th>\n",
              "      <td>28</td>\n",
              "      <td>2</td>\n",
              "      <td>33.000</td>\n",
              "      <td>3</td>\n",
              "      <td>0</td>\n",
              "      <td>4</td>\n",
              "      <td>4449.46200</td>\n",
              "    </tr>\n",
              "    <tr>\n",
              "      <th>2</th>\n",
              "      <td>33</td>\n",
              "      <td>2</td>\n",
              "      <td>22.705</td>\n",
              "      <td>0</td>\n",
              "      <td>0</td>\n",
              "      <td>1</td>\n",
              "      <td>21984.47061</td>\n",
              "    </tr>\n",
              "    <tr>\n",
              "      <th>3</th>\n",
              "      <td>32</td>\n",
              "      <td>2</td>\n",
              "      <td>28.880</td>\n",
              "      <td>0</td>\n",
              "      <td>0</td>\n",
              "      <td>1</td>\n",
              "      <td>3866.85520</td>\n",
              "    </tr>\n",
              "    <tr>\n",
              "      <th>4</th>\n",
              "      <td>31</td>\n",
              "      <td>1</td>\n",
              "      <td>25.740</td>\n",
              "      <td>0</td>\n",
              "      <td>?</td>\n",
              "      <td>4</td>\n",
              "      <td>3756.62160</td>\n",
              "    </tr>\n",
              "  </tbody>\n",
              "</table>\n",
              "</div>\n",
              "    <div class=\"colab-df-buttons\">\n",
              "\n",
              "  <div class=\"colab-df-container\">\n",
              "    <button class=\"colab-df-convert\" onclick=\"convertToInteractive('df-8c22a03e-162f-4734-8a6f-dc5cf3870251')\"\n",
              "            title=\"Convert this dataframe to an interactive table.\"\n",
              "            style=\"display:none;\">\n",
              "\n",
              "  <svg xmlns=\"http://www.w3.org/2000/svg\" height=\"24px\" viewBox=\"0 -960 960 960\">\n",
              "    <path d=\"M120-120v-720h720v720H120Zm60-500h600v-160H180v160Zm220 220h160v-160H400v160Zm0 220h160v-160H400v160ZM180-400h160v-160H180v160Zm440 0h160v-160H620v160ZM180-180h160v-160H180v160Zm440 0h160v-160H620v160Z\"/>\n",
              "  </svg>\n",
              "    </button>\n",
              "\n",
              "  <style>\n",
              "    .colab-df-container {\n",
              "      display:flex;\n",
              "      gap: 12px;\n",
              "    }\n",
              "\n",
              "    .colab-df-convert {\n",
              "      background-color: #E8F0FE;\n",
              "      border: none;\n",
              "      border-radius: 50%;\n",
              "      cursor: pointer;\n",
              "      display: none;\n",
              "      fill: #1967D2;\n",
              "      height: 32px;\n",
              "      padding: 0 0 0 0;\n",
              "      width: 32px;\n",
              "    }\n",
              "\n",
              "    .colab-df-convert:hover {\n",
              "      background-color: #E2EBFA;\n",
              "      box-shadow: 0px 1px 2px rgba(60, 64, 67, 0.3), 0px 1px 3px 1px rgba(60, 64, 67, 0.15);\n",
              "      fill: #174EA6;\n",
              "    }\n",
              "\n",
              "    .colab-df-buttons div {\n",
              "      margin-bottom: 4px;\n",
              "    }\n",
              "\n",
              "    [theme=dark] .colab-df-convert {\n",
              "      background-color: #3B4455;\n",
              "      fill: #D2E3FC;\n",
              "    }\n",
              "\n",
              "    [theme=dark] .colab-df-convert:hover {\n",
              "      background-color: #434B5C;\n",
              "      box-shadow: 0px 1px 3px 1px rgba(0, 0, 0, 0.15);\n",
              "      filter: drop-shadow(0px 1px 2px rgba(0, 0, 0, 0.3));\n",
              "      fill: #FFFFFF;\n",
              "    }\n",
              "  </style>\n",
              "\n",
              "    <script>\n",
              "      const buttonEl =\n",
              "        document.querySelector('#df-8c22a03e-162f-4734-8a6f-dc5cf3870251 button.colab-df-convert');\n",
              "      buttonEl.style.display =\n",
              "        google.colab.kernel.accessAllowed ? 'block' : 'none';\n",
              "\n",
              "      async function convertToInteractive(key) {\n",
              "        const element = document.querySelector('#df-8c22a03e-162f-4734-8a6f-dc5cf3870251');\n",
              "        const dataTable =\n",
              "          await google.colab.kernel.invokeFunction('convertToInteractive',\n",
              "                                                    [key], {});\n",
              "        if (!dataTable) return;\n",
              "\n",
              "        const docLinkHtml = 'Like what you see? Visit the ' +\n",
              "          '<a target=\"_blank\" href=https://colab.research.google.com/notebooks/data_table.ipynb>data table notebook</a>'\n",
              "          + ' to learn more about interactive tables.';\n",
              "        element.innerHTML = '';\n",
              "        dataTable['output_type'] = 'display_data';\n",
              "        await google.colab.output.renderOutput(dataTable, element);\n",
              "        const docLink = document.createElement('div');\n",
              "        docLink.innerHTML = docLinkHtml;\n",
              "        element.appendChild(docLink);\n",
              "      }\n",
              "    </script>\n",
              "  </div>\n",
              "\n",
              "\n",
              "    <div id=\"df-6254fc97-5fea-48e1-ad47-754285425af4\">\n",
              "      <button class=\"colab-df-quickchart\" onclick=\"quickchart('df-6254fc97-5fea-48e1-ad47-754285425af4')\"\n",
              "                title=\"Suggest charts\"\n",
              "                style=\"display:none;\">\n",
              "\n",
              "<svg xmlns=\"http://www.w3.org/2000/svg\" height=\"24px\"viewBox=\"0 0 24 24\"\n",
              "     width=\"24px\">\n",
              "    <g>\n",
              "        <path d=\"M19 3H5c-1.1 0-2 .9-2 2v14c0 1.1.9 2 2 2h14c1.1 0 2-.9 2-2V5c0-1.1-.9-2-2-2zM9 17H7v-7h2v7zm4 0h-2V7h2v10zm4 0h-2v-4h2v4z\"/>\n",
              "    </g>\n",
              "</svg>\n",
              "      </button>\n",
              "\n",
              "<style>\n",
              "  .colab-df-quickchart {\n",
              "      --bg-color: #E8F0FE;\n",
              "      --fill-color: #1967D2;\n",
              "      --hover-bg-color: #E2EBFA;\n",
              "      --hover-fill-color: #174EA6;\n",
              "      --disabled-fill-color: #AAA;\n",
              "      --disabled-bg-color: #DDD;\n",
              "  }\n",
              "\n",
              "  [theme=dark] .colab-df-quickchart {\n",
              "      --bg-color: #3B4455;\n",
              "      --fill-color: #D2E3FC;\n",
              "      --hover-bg-color: #434B5C;\n",
              "      --hover-fill-color: #FFFFFF;\n",
              "      --disabled-bg-color: #3B4455;\n",
              "      --disabled-fill-color: #666;\n",
              "  }\n",
              "\n",
              "  .colab-df-quickchart {\n",
              "    background-color: var(--bg-color);\n",
              "    border: none;\n",
              "    border-radius: 50%;\n",
              "    cursor: pointer;\n",
              "    display: none;\n",
              "    fill: var(--fill-color);\n",
              "    height: 32px;\n",
              "    padding: 0;\n",
              "    width: 32px;\n",
              "  }\n",
              "\n",
              "  .colab-df-quickchart:hover {\n",
              "    background-color: var(--hover-bg-color);\n",
              "    box-shadow: 0 1px 2px rgba(60, 64, 67, 0.3), 0 1px 3px 1px rgba(60, 64, 67, 0.15);\n",
              "    fill: var(--button-hover-fill-color);\n",
              "  }\n",
              "\n",
              "  .colab-df-quickchart-complete:disabled,\n",
              "  .colab-df-quickchart-complete:disabled:hover {\n",
              "    background-color: var(--disabled-bg-color);\n",
              "    fill: var(--disabled-fill-color);\n",
              "    box-shadow: none;\n",
              "  }\n",
              "\n",
              "  .colab-df-spinner {\n",
              "    border: 2px solid var(--fill-color);\n",
              "    border-color: transparent;\n",
              "    border-bottom-color: var(--fill-color);\n",
              "    animation:\n",
              "      spin 1s steps(1) infinite;\n",
              "  }\n",
              "\n",
              "  @keyframes spin {\n",
              "    0% {\n",
              "      border-color: transparent;\n",
              "      border-bottom-color: var(--fill-color);\n",
              "      border-left-color: var(--fill-color);\n",
              "    }\n",
              "    20% {\n",
              "      border-color: transparent;\n",
              "      border-left-color: var(--fill-color);\n",
              "      border-top-color: var(--fill-color);\n",
              "    }\n",
              "    30% {\n",
              "      border-color: transparent;\n",
              "      border-left-color: var(--fill-color);\n",
              "      border-top-color: var(--fill-color);\n",
              "      border-right-color: var(--fill-color);\n",
              "    }\n",
              "    40% {\n",
              "      border-color: transparent;\n",
              "      border-right-color: var(--fill-color);\n",
              "      border-top-color: var(--fill-color);\n",
              "    }\n",
              "    60% {\n",
              "      border-color: transparent;\n",
              "      border-right-color: var(--fill-color);\n",
              "    }\n",
              "    80% {\n",
              "      border-color: transparent;\n",
              "      border-right-color: var(--fill-color);\n",
              "      border-bottom-color: var(--fill-color);\n",
              "    }\n",
              "    90% {\n",
              "      border-color: transparent;\n",
              "      border-bottom-color: var(--fill-color);\n",
              "    }\n",
              "  }\n",
              "</style>\n",
              "\n",
              "      <script>\n",
              "        async function quickchart(key) {\n",
              "          const quickchartButtonEl =\n",
              "            document.querySelector('#' + key + ' button');\n",
              "          quickchartButtonEl.disabled = true;  // To prevent multiple clicks.\n",
              "          quickchartButtonEl.classList.add('colab-df-spinner');\n",
              "          try {\n",
              "            const charts = await google.colab.kernel.invokeFunction(\n",
              "                'suggestCharts', [key], {});\n",
              "          } catch (error) {\n",
              "            console.error('Error during call to suggestCharts:', error);\n",
              "          }\n",
              "          quickchartButtonEl.classList.remove('colab-df-spinner');\n",
              "          quickchartButtonEl.classList.add('colab-df-quickchart-complete');\n",
              "        }\n",
              "        (() => {\n",
              "          let quickchartButtonEl =\n",
              "            document.querySelector('#df-6254fc97-5fea-48e1-ad47-754285425af4 button');\n",
              "          quickchartButtonEl.style.display =\n",
              "            google.colab.kernel.accessAllowed ? 'block' : 'none';\n",
              "        })();\n",
              "      </script>\n",
              "    </div>\n",
              "\n",
              "    </div>\n",
              "  </div>\n"
            ],
            "application/vnd.google.colaboratory.intrinsic+json": {
              "type": "dataframe",
              "variable_name": "df",
              "summary": "{\n  \"name\": \"df\",\n  \"rows\": 2771,\n  \"fields\": [\n    {\n      \"column\": \"19\",\n      \"properties\": {\n        \"dtype\": \"category\",\n        \"num_unique_values\": 48,\n        \"samples\": [\n          \"21\",\n          \"54\",\n          \"36\"\n        ],\n        \"semantic_type\": \"\",\n        \"description\": \"\"\n      }\n    },\n    {\n      \"column\": \"1\",\n      \"properties\": {\n        \"dtype\": \"number\",\n        \"std\": 0,\n        \"min\": 1,\n        \"max\": 2,\n        \"num_unique_values\": 2,\n        \"samples\": [\n          1,\n          2\n        ],\n        \"semantic_type\": \"\",\n        \"description\": \"\"\n      }\n    },\n    {\n      \"column\": \"27.9\",\n      \"properties\": {\n        \"dtype\": \"number\",\n        \"std\": 6.130323845974237,\n        \"min\": 15.96,\n        \"max\": 53.13,\n        \"num_unique_values\": 548,\n        \"samples\": [\n          25.6,\n          38.285\n        ],\n        \"semantic_type\": \"\",\n        \"description\": \"\"\n      }\n    },\n    {\n      \"column\": \"0\",\n      \"properties\": {\n        \"dtype\": \"number\",\n        \"std\": 1,\n        \"min\": 0,\n        \"max\": 5,\n        \"num_unique_values\": 6,\n        \"samples\": [\n          1,\n          3\n        ],\n        \"semantic_type\": \"\",\n        \"description\": \"\"\n      }\n    },\n    {\n      \"column\": \"1.1\",\n      \"properties\": {\n        \"dtype\": \"category\",\n        \"num_unique_values\": 3,\n        \"samples\": [\n          \"0\",\n          \"?\"\n        ],\n        \"semantic_type\": \"\",\n        \"description\": \"\"\n      }\n    },\n    {\n      \"column\": \"3\",\n      \"properties\": {\n        \"dtype\": \"number\",\n        \"std\": 1,\n        \"min\": 1,\n        \"max\": 4,\n        \"num_unique_values\": 4,\n        \"samples\": [\n          1,\n          3\n        ],\n        \"semantic_type\": \"\",\n        \"description\": \"\"\n      }\n    },\n    {\n      \"column\": \"16884.924\",\n      \"properties\": {\n        \"dtype\": \"number\",\n        \"std\": 12153.767132152772,\n        \"min\": 1121.8739,\n        \"max\": 63770.42801,\n        \"num_unique_values\": 1337,\n        \"samples\": [\n          48673.5588,\n          7045.499\n        ],\n        \"semantic_type\": \"\",\n        \"description\": \"\"\n      }\n    }\n  ]\n}"
            }
          },
          "metadata": {},
          "execution_count": 37
        }
      ]
    },
    {
      "cell_type": "markdown",
      "source": [
        "### Task 1 : Import the dataset"
      ],
      "metadata": {
        "id": "SZezDB3zwmK3"
      }
    },
    {
      "cell_type": "code",
      "source": [
        "# Load CSV without headers\n",
        "df = pd.read_csv(\"insurance.csv\", header=None)\n",
        "\n",
        "# Assign column names as per the dataset description\n",
        "df.columns = ['age', 'gender', 'bmi', 'no_of_children', 'smoker', 'region', 'charges']\n",
        "\n",
        "# Print first 10 rows to check\n",
        "print(df.head(10))"
      ],
      "metadata": {
        "colab": {
          "base_uri": "https://localhost:8080/"
        },
        "id": "reZ8_-yLwm1Q",
        "outputId": "f38b01c8-d812-40da-8b0e-f4c3bf07aa11"
      },
      "execution_count": 38,
      "outputs": [
        {
          "output_type": "stream",
          "name": "stdout",
          "text": [
            "  age  gender     bmi  no_of_children smoker  region      charges\n",
            "0  19       1  27.900               0      1       3  16884.92400\n",
            "1  18       2  33.770               1      0       4   1725.55230\n",
            "2  28       2  33.000               3      0       4   4449.46200\n",
            "3  33       2  22.705               0      0       1  21984.47061\n",
            "4  32       2  28.880               0      0       1   3866.85520\n",
            "5  31       1  25.740               0      ?       4   3756.62160\n",
            "6  46       1  33.440               1      0       4   8240.58960\n",
            "7  37       1  27.740               3      0       1   7281.50560\n",
            "8  37       2  29.830               2      0       2   6406.41070\n",
            "9  60       1  25.840               0      0       1  28923.13692\n"
          ]
        }
      ]
    },
    {
      "cell_type": "code",
      "source": [
        "# Replace all '?' strings in the dataframe with np.nan\n",
        "df.replace('?', np.nan, inplace=True)\n",
        "\n",
        "# Print first 10 rows to check\n",
        "print(df.head(10))"
      ],
      "metadata": {
        "colab": {
          "base_uri": "https://localhost:8080/"
        },
        "id": "dKpL6qS7w6Nz",
        "outputId": "122dbed8-05ed-4cb4-f63c-1e3661b7e789"
      },
      "execution_count": 39,
      "outputs": [
        {
          "output_type": "stream",
          "name": "stdout",
          "text": [
            "  age  gender     bmi  no_of_children smoker  region      charges\n",
            "0  19       1  27.900               0      1       3  16884.92400\n",
            "1  18       2  33.770               1      0       4   1725.55230\n",
            "2  28       2  33.000               3      0       4   4449.46200\n",
            "3  33       2  22.705               0      0       1  21984.47061\n",
            "4  32       2  28.880               0      0       1   3866.85520\n",
            "5  31       1  25.740               0    NaN       4   3756.62160\n",
            "6  46       1  33.440               1      0       4   8240.58960\n",
            "7  37       1  27.740               3      0       1   7281.50560\n",
            "8  37       2  29.830               2      0       2   6406.41070\n",
            "9  60       1  25.840               0      0       1  28923.13692\n"
          ]
        }
      ]
    },
    {
      "cell_type": "markdown",
      "source": [
        "### Task 2 : Data Wrangling"
      ],
      "metadata": {
        "id": "qfTGa34-w_G4"
      }
    },
    {
      "cell_type": "code",
      "source": [
        "df.info()"
      ],
      "metadata": {
        "colab": {
          "base_uri": "https://localhost:8080/"
        },
        "id": "_pZaREXbxEMm",
        "outputId": "3ff3ffbc-2988-4d01-a010-254860d59dab"
      },
      "execution_count": 40,
      "outputs": [
        {
          "output_type": "stream",
          "name": "stdout",
          "text": [
            "<class 'pandas.core.frame.DataFrame'>\n",
            "RangeIndex: 2772 entries, 0 to 2771\n",
            "Data columns (total 7 columns):\n",
            " #   Column          Non-Null Count  Dtype  \n",
            "---  ------          --------------  -----  \n",
            " 0   age             2768 non-null   object \n",
            " 1   gender          2772 non-null   int64  \n",
            " 2   bmi             2772 non-null   float64\n",
            " 3   no_of_children  2772 non-null   int64  \n",
            " 4   smoker          2765 non-null   object \n",
            " 5   region          2772 non-null   int64  \n",
            " 6   charges         2772 non-null   float64\n",
            "dtypes: float64(2), int64(3), object(2)\n",
            "memory usage: 151.7+ KB\n"
          ]
        }
      ]
    },
    {
      "cell_type": "markdown",
      "source": [
        "The dataset contains 2,772 entries and 7 columns. Based on the .info() output:\n",
        "\n",
        "*   The age column has 4 missing values and is stored as an object type, which is\n",
        "unusual for a numeric field. It should be converted to an integer or float after handling missing values.\n",
        "*   The gender, bmi, no_of_children, region, and charges columns are complete with no missing values and are in appropriate numeric formats.\n",
        "*   The smoker column has 7 missing entries and is stored as an object, which likely indicates categorical data (e.g., \"yes\" or \"no\").\n",
        "\n",
        "\n",
        "\n",
        "\n",
        "\n",
        "\n",
        "\n",
        "\n",
        "\n",
        "\n"
      ],
      "metadata": {
        "id": "AC5vbv10xuOs"
      }
    },
    {
      "cell_type": "code",
      "source": [
        "# Convert 'age' to numeric, coercing errors to NaN\n",
        "df['age'] = pd.to_numeric(df['age'], errors='coerce')\n",
        "\n",
        "# Fill missing values in 'age' with the mean\n",
        "age_mean = df['age'].mean()\n",
        "df['age'] = df['age'].fillna(age_mean)\n",
        "\n",
        "# Fill missing values in 'smoker' with the mode (most frequent value)\n",
        "smoker_mode = df['smoker'].mode()[0]\n",
        "df['smoker'] = df['smoker'].fillna(smoker_mode)\n",
        "\n",
        "# Convert 'age' to integer type\n",
        "df['age'] = df['age'].astype(int)\n",
        "\n",
        "# Check dataframe info to verify changes\n",
        "df.info()"
      ],
      "metadata": {
        "colab": {
          "base_uri": "https://localhost:8080/"
        },
        "id": "y2-vzi9lyInO",
        "outputId": "8150d1b5-8740-4d9e-f3e4-85b92c45057b"
      },
      "execution_count": 41,
      "outputs": [
        {
          "output_type": "stream",
          "name": "stdout",
          "text": [
            "<class 'pandas.core.frame.DataFrame'>\n",
            "RangeIndex: 2772 entries, 0 to 2771\n",
            "Data columns (total 7 columns):\n",
            " #   Column          Non-Null Count  Dtype  \n",
            "---  ------          --------------  -----  \n",
            " 0   age             2772 non-null   int64  \n",
            " 1   gender          2772 non-null   int64  \n",
            " 2   bmi             2772 non-null   float64\n",
            " 3   no_of_children  2772 non-null   int64  \n",
            " 4   smoker          2772 non-null   object \n",
            " 5   region          2772 non-null   int64  \n",
            " 6   charges         2772 non-null   float64\n",
            "dtypes: float64(2), int64(4), object(1)\n",
            "memory usage: 151.7+ KB\n"
          ]
        }
      ]
    },
    {
      "cell_type": "markdown",
      "source": [
        "The dataset is now clean and correctly typed, and ready for further analysis or modeling."
      ],
      "metadata": {
        "id": "RhOHCUTjyV8y"
      }
    },
    {
      "cell_type": "code",
      "source": [
        "# Round the 'charges' column to 2 decimal places\n",
        "df['charges'] = df['charges'].round(2)\n",
        "\n",
        "# Print the first 5 rows to verify\n",
        "print(df.head())"
      ],
      "metadata": {
        "colab": {
          "base_uri": "https://localhost:8080/"
        },
        "id": "nm9yk3bSylZo",
        "outputId": "44cd581f-e443-4c95-e70f-b4f178ab0224"
      },
      "execution_count": 42,
      "outputs": [
        {
          "output_type": "stream",
          "name": "stdout",
          "text": [
            "   age  gender     bmi  no_of_children smoker  region   charges\n",
            "0   19       1  27.900               0      1       3  16884.92\n",
            "1   18       2  33.770               1      0       4   1725.55\n",
            "2   28       2  33.000               3      0       4   4449.46\n",
            "3   33       2  22.705               0      0       1  21984.47\n",
            "4   32       2  28.880               0      0       1   3866.86\n"
          ]
        }
      ]
    },
    {
      "cell_type": "markdown",
      "source": [
        "The charges column has been rounded to 2 decimal places for consistency and readability."
      ],
      "metadata": {
        "id": "_U2Z60E2yw5C"
      }
    },
    {
      "cell_type": "markdown",
      "source": [
        "### Task 3 : Exploratory Data Analysis (EDA)\n"
      ],
      "metadata": {
        "id": "DQiAnlJdy0vo"
      }
    },
    {
      "cell_type": "code",
      "source": [
        "# Create regression plot for charges vs bmi\n",
        "sns.regplot(x='bmi', y='charges', data=df)\n",
        "\n",
        "# Add title and labels for clarity\n",
        "plt.title('Regression plot of Charges vs BMI')\n",
        "plt.xlabel('BMI')\n",
        "plt.ylabel('Charges')\n",
        "\n",
        "# Show the plot\n",
        "plt.show()"
      ],
      "metadata": {
        "colab": {
          "base_uri": "https://localhost:8080/",
          "height": 472
        },
        "id": "r1lPFXvNy16K",
        "outputId": "822c1cc9-a355-4cb1-de98-05c442c3268f"
      },
      "execution_count": 43,
      "outputs": [
        {
          "output_type": "display_data",
          "data": {
            "text/plain": [
              "<Figure size 640x480 with 1 Axes>"
            ],
            "image/png": "[encoded data removed]"
          },
          "metadata": {}
        }
      ]
    },
    {
      "cell_type": "markdown",
      "source": [
        "### Interpretation of the Scatter Plot (BMI vs Medical Charges)\n",
        "\n",
        "- **Positive Relationship:** There appears to be a weak to moderate positive linear relationship between BMI and Charges. As BMI increases, medical charges tend to increase, as indicated by the upward sloping regression line.\n",
        "\n",
        "- **Spread of Data (Heteroscedasticity):** The data points are quite scattered, especially at higher BMI values. This suggests that while there's a general trend, BMI alone doesn't explain a large portion of the variance in charges. The spread also seems to increase with higher BMI, which could indicate heteroscedasticity (the variance of the residuals is not constant across all levels of the independent variable).\n",
        "\n",
        "- **Outliers:** There are several data points that lie significantly far from the main cluster and the regression line, particularly at higher charges and various BMI levels. These could be considered outliers and might warrant further investigation to understand their impact on the overall relationship.\n",
        "\n",
        "- **Strength of Relationship:** The shaded area around the regression line represents the confidence interval. The relatively wide confidence interval, along with the scattered data, suggests that the predictive power of BMI on charges is not extremely strong. While there's a trend, individual charges vary considerably at similar BMI levels.\n",
        "\n",
        "- **Practical Implication:** This plot suggests that higher BMI is associated with higher medical charges, which aligns with the understanding that higher BMI can lead to various health issues requiring medical attention. However, it also highlights that other factors not included in this plot likely play a significant role in determining medical charges.\n"
      ],
      "metadata": {
        "id": "oDJ0JjL14L12"
      }
    },
    {
      "cell_type": "code",
      "source": [
        "# Box plot for charges by smoker status\n",
        "sns.boxplot(x='smoker', y='charges', data=df)\n",
        "\n",
        "# Add title and axis labels\n",
        "plt.title('Box plot of Charges by Smoker Status')\n",
        "plt.xlabel('Smoker (0 = No, 1 = Yes)')\n",
        "plt.ylabel('Charges')\n",
        "\n",
        "# Show the plot\n",
        "plt.show()"
      ],
      "metadata": {
        "colab": {
          "base_uri": "https://localhost:8080/",
          "height": 472
        },
        "id": "iGHRO_tVy5VI",
        "outputId": "7fa773a9-ec65-48e8-b1d3-8e3a764591f4"
      },
      "execution_count": 44,
      "outputs": [
        {
          "output_type": "display_data",
          "data": {
            "text/plain": [
              "<Figure size 640x480 with 1 Axes>"
            ],
            "image/png": "[encoded data removed]"
          },
          "metadata": {}
        }
      ]
    },
    {
      "cell_type": "markdown",
      "source": [
        "- Smokers have significantly higher medical charges than non-smokers.\n",
        "- The median charges for smokers are much higher, and their charges show more variability.\n",
        "- Some non-smokers also have high charges, but generally, smoking is a strong indicator of increased medical costs.\n"
      ],
      "metadata": {
        "id": "INJLi-rI42rM"
      }
    },
    {
      "cell_type": "code",
      "source": [
        "print(df.corr())"
      ],
      "metadata": {
        "colab": {
          "base_uri": "https://localhost:8080/"
        },
        "id": "W16ITHbUy_Pg",
        "outputId": "23af3db4-0736-4494-ea2f-88964deacfe0"
      },
      "execution_count": 45,
      "outputs": [
        {
          "output_type": "stream",
          "name": "stdout",
          "text": [
            "                     age    gender       bmi  no_of_children    smoker  \\\n",
            "age             1.000000 -0.026046  0.113048        0.037574 -0.023286   \n",
            "gender         -0.026046  1.000000  0.042924        0.016020  0.082326   \n",
            "bmi             0.113048  0.042924  1.000000       -0.001492  0.011489   \n",
            "no_of_children  0.037574  0.016020 -0.001492        1.000000  0.006362   \n",
            "smoker         -0.023286  0.082326  0.011489        0.006362  1.000000   \n",
            "region         -0.007167  0.022213  0.271119       -0.025717  0.054077   \n",
            "charges         0.298624  0.062837  0.199846        0.066442  0.788783   \n",
            "\n",
            "                  region   charges  \n",
            "age            -0.007167  0.298624  \n",
            "gender          0.022213  0.062837  \n",
            "bmi             0.271119  0.199846  \n",
            "no_of_children -0.025717  0.066442  \n",
            "smoker          0.054077  0.788783  \n",
            "region          1.000000  0.054058  \n",
            "charges         0.054058  1.000000  \n"
          ]
        }
      ]
    },
    {
      "cell_type": "markdown",
      "source": [
        "*  Strongest positive correlation with charges:\n",
        "\n",
        "  Smoker (0.79) → Being a smoker is highly associated with higher insurance charges.\n",
        "*   Moderate correlation:\n",
        "  \n",
        "  Age (0.30) → Older individuals tend to have higher charges.\n",
        "  \n",
        "  BMI (0.20) → Higher BMI is slightly linked to higher charges.\n",
        "*   Weak or negligible correlations:\n",
        "  \n",
        "  Gender, number of children, and region show very low correlation with charges (all near 0.05–0.07), indicating minimal influence.\n",
        "\n",
        "The smoker variable is the most influential feature for predicting insurance charges.\n",
        "\n",
        "\n",
        "\n",
        "\n",
        "\n"
      ],
      "metadata": {
        "id": "FT209TcuzOC2"
      }
    },
    {
      "cell_type": "markdown",
      "source": [
        "### Task 4 : Model Development"
      ],
      "metadata": {
        "id": "tiurreOlz4eP"
      }
    },
    {
      "cell_type": "code",
      "source": [
        "# Prepare feature (X) and target (y)\n",
        "X = df[['smoker']]  # Use smoker attribute as feature, keep it as a DataFrame\n",
        "y = df['charges']   # Target variable\n",
        "\n",
        "# Initialize and fit the linear regression model\n",
        "lr = LinearRegression()\n",
        "lr.fit(X, y)\n",
        "\n",
        "# Predict charges using the model\n",
        "y_pred = lr.predict(X)\n",
        "\n",
        "# Calculate R² score\n",
        "r2 = r2_score(y, y_pred)\n",
        "print(f'R² score using smoker attribute: {r2:.4f}')"
      ],
      "metadata": {
        "colab": {
          "base_uri": "https://localhost:8080/"
        },
        "id": "nU7UqoC7z8w8",
        "outputId": "f29810ec-ea72-460b-a997-963216606d53"
      },
      "execution_count": 46,
      "outputs": [
        {
          "output_type": "stream",
          "name": "stdout",
          "text": [
            "R² score using smoker attribute: 0.6222\n"
          ]
        }
      ]
    },
    {
      "cell_type": "markdown",
      "source": [
        "A simple linear regression model using only the smoker attribute as a predictor yields an R² score of 0.6222.\n",
        "This means that approximately 62.22% of the variance in insurance charges can be explained solely by whether the individual is a smoker or not."
      ],
      "metadata": {
        "id": "FBUYdZHz0IZ_"
      }
    },
    {
      "cell_type": "code",
      "source": [
        "# Define features X (all columns except 'charges')\n",
        "X = df.drop(columns=['charges'])\n",
        "\n",
        "# Target variable y\n",
        "y = df['charges']\n",
        "\n",
        "# Initialize and fit the linear regression model\n",
        "lr_all = LinearRegression()\n",
        "lr_all.fit(X, y)\n",
        "\n",
        "# Predict charges using the model\n",
        "y_pred_all = lr_all.predict(X)\n",
        "\n",
        "# Calculate R² score\n",
        "r2_all = r2_score(y, y_pred_all)\n",
        "print(f'R²  score using all attributes: {r2_all:.4f}')"
      ],
      "metadata": {
        "colab": {
          "base_uri": "https://localhost:8080/"
        },
        "id": "RO_EMlkk0TXi",
        "outputId": "203e5c78-0fa4-4f52-da4e-f921465d5b96"
      },
      "execution_count": 47,
      "outputs": [
        {
          "output_type": "stream",
          "name": "stdout",
          "text": [
            "R²  score using all attributes: 0.7504\n"
          ]
        }
      ]
    },
    {
      "cell_type": "markdown",
      "source": [
        "The linear regression model using all attributes as predictors achieved an R² score of 0.7504.\n",
        "This means that approximately 75.04% of the variance in insurance charges can be explained by the combined factors such as age, gender, BMI, number of children, smoking status, and region.\n",
        "This indicates that including all features significantly improves the model’s performance compared to using only the smoker attribute."
      ],
      "metadata": {
        "id": "fJDuNJo-0j-T"
      }
    },
    {
      "cell_type": "code",
      "source": [
        "# Define features and target\n",
        "X = df.drop(columns=['charges'])\n",
        "y = df['charges']\n",
        "\n",
        "# Create the pipeline\n",
        "pipeline = Pipeline([\n",
        "    ('scaler', StandardScaler()),               # Step 1: scale features\n",
        "    ('poly_features', PolynomialFeatures(degree=2, include_bias=False)),  # Step 2: add polynomial features\n",
        "    ('linear_regression', LinearRegression())   # Step 3: linear regression\n",
        "])\n",
        "\n",
        "# Fit the pipeline to the data\n",
        "pipeline.fit(X, y)\n",
        "\n",
        "# Print the R² score on the training data\n",
        "print(\"R² score with polynomial features:\", pipeline.score(X, y))"
      ],
      "metadata": {
        "colab": {
          "base_uri": "https://localhost:8080/"
        },
        "id": "utcD0KIJ0paG",
        "outputId": "a1e4d3ce-e461-42ab-f203-576c67c683d4"
      },
      "execution_count": 48,
      "outputs": [
        {
          "output_type": "stream",
          "name": "stdout",
          "text": [
            "R² score with polynomial features: 0.8452576213500093\n"
          ]
        }
      ]
    },
    {
      "cell_type": "markdown",
      "source": [
        "The regression model using polynomial features of degree 2, combined with feature scaling, achieved an R² score of approximately 0.8453 on the training data. This means the model can explain about 84.53% of the variance in insurance charges, showing a significant improvement over the linear model without polynomial features. Adding polynomial terms helps the model capture more complex relationships between the features and the target variable"
      ],
      "metadata": {
        "id": "4x9yViGy08OX"
      }
    },
    {
      "cell_type": "markdown",
      "source": [
        "### Task 5 : Model Refinement"
      ],
      "metadata": {
        "id": "5HIuK84H1ALN"
      }
    },
    {
      "cell_type": "code",
      "source": [
        "# Define the features (X) and target (y)\n",
        "X = df[[\"age\", \"gender\", \"bmi\", \"no_of_children\", \"smoker\", \"region\"]]\n",
        "y = df[\"charges\"]\n",
        "\n",
        "# Split the data: 80% training and 20% testing\n",
        "X_train, X_test, y_train, y_test = train_test_split(X, y, test_size=0.2, random_state=42)\n",
        "\n",
        "# Confirm shapes\n",
        "print(\"Training set shape:\", X_train.shape, y_train.shape)\n",
        "print(\"Testing set shape:\", X_test.shape, y_test.shape)"
      ],
      "metadata": {
        "colab": {
          "base_uri": "https://localhost:8080/"
        },
        "id": "rl61CBZ11BXh",
        "outputId": "bc8c04ce-07e9-4eed-f01c-f73c2b2d2ad7"
      },
      "execution_count": 49,
      "outputs": [
        {
          "output_type": "stream",
          "name": "stdout",
          "text": [
            "Training set shape: (2217, 6) (2217,)\n",
            "Testing set shape: (555, 6) (555,)\n"
          ]
        }
      ]
    },
    {
      "cell_type": "code",
      "source": [
        "# Initialize Ridge regressor with alpha (regularization strength)\n",
        "ridge_model = Ridge(alpha=1.0)\n",
        "\n",
        "# Fit model to training data\n",
        "ridge_model.fit(X_train, y_train)\n",
        "\n",
        "# Evaluate R^2 score on testing data\n",
        "r2_ridge = ridge_model.score(X_test, y_test)\n",
        "print(\"R² score on testing data:\", round(r2_ridge, 4))"
      ],
      "metadata": {
        "colab": {
          "base_uri": "https://localhost:8080/"
        },
        "id": "tu6u0EM81USa",
        "outputId": "8787c76a-f310-4c89-9bc6-ec73428dcea2"
      },
      "execution_count": 50,
      "outputs": [
        {
          "output_type": "stream",
          "name": "stdout",
          "text": [
            "R² score on testing data: 0.7395\n"
          ]
        }
      ]
    },
    {
      "cell_type": "markdown",
      "source": [
        "A Ridge regression model was trained on the training dataset with a regularization parameter (alpha) of 1.0. When evaluated on the testing set, the model achieved an R² score of approximately 0.7395, indicating that about 73.95% of the variance in insurance charges can be explained by the model."
      ],
      "metadata": {
        "id": "280jNUB61dTu"
      }
    },
    {
      "cell_type": "code",
      "source": [
        "# Create polynomial features (degree 2)\n",
        "poly = PolynomialFeatures(degree=2, include_bias=False)\n",
        "\n",
        "# Transform the training and testing features\n",
        "X_train_poly = poly.fit_transform(X_train)\n",
        "X_test_poly = poly.transform(X_test)\n",
        "\n",
        "# Fit the Ridge model on the transformed features\n",
        "ridge_poly_model = Ridge(alpha=1.0)\n",
        "ridge_poly_model.fit(X_train_poly, y_train)\n",
        "\n",
        "# Evaluate the model\n",
        "r2_poly_ridge = ridge_poly_model.score(X_test_poly, y_test)\n",
        "print(\"R² score on testing data after polynomial transformation:\", round(r2_poly_ridge, 4))"
      ],
      "metadata": {
        "colab": {
          "base_uri": "https://localhost:8080/"
        },
        "id": "A9uBrt0G1uZe",
        "outputId": "e375c357-7da1-41ea-a023-fb614c3781b5"
      },
      "execution_count": 51,
      "outputs": [
        {
          "output_type": "stream",
          "name": "stdout",
          "text": [
            "R² score on testing data after polynomial transformation: 0.8338\n"
          ]
        }
      ]
    },
    {
      "cell_type": "markdown",
      "source": [
        "After applying polynomial feature transformation of degree 2 to the training and testing data, a Ridge regression model was trained and evaluated. The model achieved an improved R² score of approximately 0.8338 on the test set, indicating that around 83.38% of the variance in insurance charges is explained by the model. This suggests that including polynomial features helps capture more complex relationships in the data"
      ],
      "metadata": {
        "id": "qCa0ccAh164r"
      }
    },
    {
      "cell_type": "markdown",
      "source": [
        "### Summary and Recommendation\n",
        "\n",
        "**Summary:**\n",
        "\n",
        "- Smoking status is the strongest factor affecting medical charges. Smokers have significantly higher median charges and greater variability compared to non-smokers.\n",
        "- BMI shows a moderate positive correlation with charges; higher BMI tends to increase costs but with more variability.\n",
        "- Other factors like age, gender, number of children, and region have smaller impacts.\n",
        "- Using polynomial features with Ridge regression improved the model, indicating some non-linear relationships.\n",
        "\n",
        "**Practical Implications:**\n",
        "\n",
        "- Smoking cessation programs could significantly reduce medical costs.\n",
        "- Weight management initiatives may help control insurance expenses.\n",
        "- Further data collection and advanced modeling could improve predictions and management of high-cost cases.\n",
        "\n",
        "**Recommendations:**\n",
        "\n",
        "- Focus on smoking-related interventions as a priority.\n",
        "- Implement lifestyle programs to reduce BMI.\n",
        "- Collect additional health and behavioral data for improved analysis.\n",
        "- Explore advanced machine learning techniques for better accuracy.\n"
      ],
      "metadata": {
        "id": "X-akDwa719M0"
      }
    }
  ]
}